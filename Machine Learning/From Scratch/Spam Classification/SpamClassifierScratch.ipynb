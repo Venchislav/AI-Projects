{
  "nbformat": 4,
  "nbformat_minor": 0,
  "metadata": {
    "colab": {
      "provenance": []
    },
    "kernelspec": {
      "name": "python3",
      "display_name": "Python 3"
    },
    "language_info": {
      "name": "python"
    }
  },
  "cells": [
    {
      "cell_type": "code",
      "execution_count": 89,
      "metadata": {
        "id": "sPWyW_pp8b1n"
      },
      "outputs": [],
      "source": [
        "import pandas as pd\n",
        "import numpy as np"
      ]
    },
    {
      "cell_type": "code",
      "source": [
        "data = pd.read_csv('spam_and_ham_classification.csv')\n",
        "data.head()"
      ],
      "metadata": {
        "colab": {
          "base_uri": "https://localhost:8080/",
          "height": 206
        },
        "id": "9sHaog9gAYss",
        "outputId": "26800b83-8e69-4223-ae45-f391507b3e82"
      },
      "execution_count": 90,
      "outputs": [
        {
          "output_type": "execute_result",
          "data": {
            "text/plain": [
              "  label                                               text\n",
              "0   ham  into the kingdom of god and those that are ent...\n",
              "1  spam  there was flow at hpl meter 1505 on april firs...\n",
              "2   ham  take a look at this one campaign for bvyhprice...\n",
              "3  spam  somu wrote actually thats what i was looking f...\n",
              "4  spam  fathi boudra wrote i fixed the issue in the sv..."
            ],
            "text/html": [
              "\n",
              "  <div id=\"df-34a698bc-555a-490a-a8b7-140eb35dfdc5\" class=\"colab-df-container\">\n",
              "    <div>\n",
              "<style scoped>\n",
              "    .dataframe tbody tr th:only-of-type {\n",
              "        vertical-align: middle;\n",
              "    }\n",
              "\n",
              "    .dataframe tbody tr th {\n",
              "        vertical-align: top;\n",
              "    }\n",
              "\n",
              "    .dataframe thead th {\n",
              "        text-align: right;\n",
              "    }\n",
              "</style>\n",
              "<table border=\"1\" class=\"dataframe\">\n",
              "  <thead>\n",
              "    <tr style=\"text-align: right;\">\n",
              "      <th></th>\n",
              "      <th>label</th>\n",
              "      <th>text</th>\n",
              "    </tr>\n",
              "  </thead>\n",
              "  <tbody>\n",
              "    <tr>\n",
              "      <th>0</th>\n",
              "      <td>ham</td>\n",
              "      <td>into the kingdom of god and those that are ent...</td>\n",
              "    </tr>\n",
              "    <tr>\n",
              "      <th>1</th>\n",
              "      <td>spam</td>\n",
              "      <td>there was flow at hpl meter 1505 on april firs...</td>\n",
              "    </tr>\n",
              "    <tr>\n",
              "      <th>2</th>\n",
              "      <td>ham</td>\n",
              "      <td>take a look at this one campaign for bvyhprice...</td>\n",
              "    </tr>\n",
              "    <tr>\n",
              "      <th>3</th>\n",
              "      <td>spam</td>\n",
              "      <td>somu wrote actually thats what i was looking f...</td>\n",
              "    </tr>\n",
              "    <tr>\n",
              "      <th>4</th>\n",
              "      <td>spam</td>\n",
              "      <td>fathi boudra wrote i fixed the issue in the sv...</td>\n",
              "    </tr>\n",
              "  </tbody>\n",
              "</table>\n",
              "</div>\n",
              "    <div class=\"colab-df-buttons\">\n",
              "\n",
              "  <div class=\"colab-df-container\">\n",
              "    <button class=\"colab-df-convert\" onclick=\"convertToInteractive('df-34a698bc-555a-490a-a8b7-140eb35dfdc5')\"\n",
              "            title=\"Convert this dataframe to an interactive table.\"\n",
              "            style=\"display:none;\">\n",
              "\n",
              "  <svg xmlns=\"http://www.w3.org/2000/svg\" height=\"24px\" viewBox=\"0 -960 960 960\">\n",
              "    <path d=\"M120-120v-720h720v720H120Zm60-500h600v-160H180v160Zm220 220h160v-160H400v160Zm0 220h160v-160H400v160ZM180-400h160v-160H180v160Zm440 0h160v-160H620v160ZM180-180h160v-160H180v160Zm440 0h160v-160H620v160Z\"/>\n",
              "  </svg>\n",
              "    </button>\n",
              "\n",
              "  <style>\n",
              "    .colab-df-container {\n",
              "      display:flex;\n",
              "      gap: 12px;\n",
              "    }\n",
              "\n",
              "    .colab-df-convert {\n",
              "      background-color: #E8F0FE;\n",
              "      border: none;\n",
              "      border-radius: 50%;\n",
              "      cursor: pointer;\n",
              "      display: none;\n",
              "      fill: #1967D2;\n",
              "      height: 32px;\n",
              "      padding: 0 0 0 0;\n",
              "      width: 32px;\n",
              "    }\n",
              "\n",
              "    .colab-df-convert:hover {\n",
              "      background-color: #E2EBFA;\n",
              "      box-shadow: 0px 1px 2px rgba(60, 64, 67, 0.3), 0px 1px 3px 1px rgba(60, 64, 67, 0.15);\n",
              "      fill: #174EA6;\n",
              "    }\n",
              "\n",
              "    .colab-df-buttons div {\n",
              "      margin-bottom: 4px;\n",
              "    }\n",
              "\n",
              "    [theme=dark] .colab-df-convert {\n",
              "      background-color: #3B4455;\n",
              "      fill: #D2E3FC;\n",
              "    }\n",
              "\n",
              "    [theme=dark] .colab-df-convert:hover {\n",
              "      background-color: #434B5C;\n",
              "      box-shadow: 0px 1px 3px 1px rgba(0, 0, 0, 0.15);\n",
              "      filter: drop-shadow(0px 1px 2px rgba(0, 0, 0, 0.3));\n",
              "      fill: #FFFFFF;\n",
              "    }\n",
              "  </style>\n",
              "\n",
              "    <script>\n",
              "      const buttonEl =\n",
              "        document.querySelector('#df-34a698bc-555a-490a-a8b7-140eb35dfdc5 button.colab-df-convert');\n",
              "      buttonEl.style.display =\n",
              "        google.colab.kernel.accessAllowed ? 'block' : 'none';\n",
              "\n",
              "      async function convertToInteractive(key) {\n",
              "        const element = document.querySelector('#df-34a698bc-555a-490a-a8b7-140eb35dfdc5');\n",
              "        const dataTable =\n",
              "          await google.colab.kernel.invokeFunction('convertToInteractive',\n",
              "                                                    [key], {});\n",
              "        if (!dataTable) return;\n",
              "\n",
              "        const docLinkHtml = 'Like what you see? Visit the ' +\n",
              "          '<a target=\"_blank\" href=https://colab.research.google.com/notebooks/data_table.ipynb>data table notebook</a>'\n",
              "          + ' to learn more about interactive tables.';\n",
              "        element.innerHTML = '';\n",
              "        dataTable['output_type'] = 'display_data';\n",
              "        await google.colab.output.renderOutput(dataTable, element);\n",
              "        const docLink = document.createElement('div');\n",
              "        docLink.innerHTML = docLinkHtml;\n",
              "        element.appendChild(docLink);\n",
              "      }\n",
              "    </script>\n",
              "  </div>\n",
              "\n",
              "\n",
              "<div id=\"df-ef632d3d-b690-42ad-9f78-e583081ae417\">\n",
              "  <button class=\"colab-df-quickchart\" onclick=\"quickchart('df-ef632d3d-b690-42ad-9f78-e583081ae417')\"\n",
              "            title=\"Suggest charts\"\n",
              "            style=\"display:none;\">\n",
              "\n",
              "<svg xmlns=\"http://www.w3.org/2000/svg\" height=\"24px\"viewBox=\"0 0 24 24\"\n",
              "     width=\"24px\">\n",
              "    <g>\n",
              "        <path d=\"M19 3H5c-1.1 0-2 .9-2 2v14c0 1.1.9 2 2 2h14c1.1 0 2-.9 2-2V5c0-1.1-.9-2-2-2zM9 17H7v-7h2v7zm4 0h-2V7h2v10zm4 0h-2v-4h2v4z\"/>\n",
              "    </g>\n",
              "</svg>\n",
              "  </button>\n",
              "\n",
              "<style>\n",
              "  .colab-df-quickchart {\n",
              "      --bg-color: #E8F0FE;\n",
              "      --fill-color: #1967D2;\n",
              "      --hover-bg-color: #E2EBFA;\n",
              "      --hover-fill-color: #174EA6;\n",
              "      --disabled-fill-color: #AAA;\n",
              "      --disabled-bg-color: #DDD;\n",
              "  }\n",
              "\n",
              "  [theme=dark] .colab-df-quickchart {\n",
              "      --bg-color: #3B4455;\n",
              "      --fill-color: #D2E3FC;\n",
              "      --hover-bg-color: #434B5C;\n",
              "      --hover-fill-color: #FFFFFF;\n",
              "      --disabled-bg-color: #3B4455;\n",
              "      --disabled-fill-color: #666;\n",
              "  }\n",
              "\n",
              "  .colab-df-quickchart {\n",
              "    background-color: var(--bg-color);\n",
              "    border: none;\n",
              "    border-radius: 50%;\n",
              "    cursor: pointer;\n",
              "    display: none;\n",
              "    fill: var(--fill-color);\n",
              "    height: 32px;\n",
              "    padding: 0;\n",
              "    width: 32px;\n",
              "  }\n",
              "\n",
              "  .colab-df-quickchart:hover {\n",
              "    background-color: var(--hover-bg-color);\n",
              "    box-shadow: 0 1px 2px rgba(60, 64, 67, 0.3), 0 1px 3px 1px rgba(60, 64, 67, 0.15);\n",
              "    fill: var(--button-hover-fill-color);\n",
              "  }\n",
              "\n",
              "  .colab-df-quickchart-complete:disabled,\n",
              "  .colab-df-quickchart-complete:disabled:hover {\n",
              "    background-color: var(--disabled-bg-color);\n",
              "    fill: var(--disabled-fill-color);\n",
              "    box-shadow: none;\n",
              "  }\n",
              "\n",
              "  .colab-df-spinner {\n",
              "    border: 2px solid var(--fill-color);\n",
              "    border-color: transparent;\n",
              "    border-bottom-color: var(--fill-color);\n",
              "    animation:\n",
              "      spin 1s steps(1) infinite;\n",
              "  }\n",
              "\n",
              "  @keyframes spin {\n",
              "    0% {\n",
              "      border-color: transparent;\n",
              "      border-bottom-color: var(--fill-color);\n",
              "      border-left-color: var(--fill-color);\n",
              "    }\n",
              "    20% {\n",
              "      border-color: transparent;\n",
              "      border-left-color: var(--fill-color);\n",
              "      border-top-color: var(--fill-color);\n",
              "    }\n",
              "    30% {\n",
              "      border-color: transparent;\n",
              "      border-left-color: var(--fill-color);\n",
              "      border-top-color: var(--fill-color);\n",
              "      border-right-color: var(--fill-color);\n",
              "    }\n",
              "    40% {\n",
              "      border-color: transparent;\n",
              "      border-right-color: var(--fill-color);\n",
              "      border-top-color: var(--fill-color);\n",
              "    }\n",
              "    60% {\n",
              "      border-color: transparent;\n",
              "      border-right-color: var(--fill-color);\n",
              "    }\n",
              "    80% {\n",
              "      border-color: transparent;\n",
              "      border-right-color: var(--fill-color);\n",
              "      border-bottom-color: var(--fill-color);\n",
              "    }\n",
              "    90% {\n",
              "      border-color: transparent;\n",
              "      border-bottom-color: var(--fill-color);\n",
              "    }\n",
              "  }\n",
              "</style>\n",
              "\n",
              "  <script>\n",
              "    async function quickchart(key) {\n",
              "      const quickchartButtonEl =\n",
              "        document.querySelector('#' + key + ' button');\n",
              "      quickchartButtonEl.disabled = true;  // To prevent multiple clicks.\n",
              "      quickchartButtonEl.classList.add('colab-df-spinner');\n",
              "      try {\n",
              "        const charts = await google.colab.kernel.invokeFunction(\n",
              "            'suggestCharts', [key], {});\n",
              "      } catch (error) {\n",
              "        console.error('Error during call to suggestCharts:', error);\n",
              "      }\n",
              "      quickchartButtonEl.classList.remove('colab-df-spinner');\n",
              "      quickchartButtonEl.classList.add('colab-df-quickchart-complete');\n",
              "    }\n",
              "    (() => {\n",
              "      let quickchartButtonEl =\n",
              "        document.querySelector('#df-ef632d3d-b690-42ad-9f78-e583081ae417 button');\n",
              "      quickchartButtonEl.style.display =\n",
              "        google.colab.kernel.accessAllowed ? 'block' : 'none';\n",
              "    })();\n",
              "  </script>\n",
              "</div>\n",
              "    </div>\n",
              "  </div>\n"
            ],
            "application/vnd.google.colaboratory.intrinsic+json": {
              "type": "dataframe",
              "variable_name": "data",
              "summary": "{\n  \"name\": \"data\",\n  \"rows\": 9989,\n  \"fields\": [\n    {\n      \"column\": \"label\",\n      \"properties\": {\n        \"dtype\": \"category\",\n        \"num_unique_values\": 2,\n        \"samples\": [\n          \"spam\",\n          \"ham\"\n        ],\n        \"semantic_type\": \"\",\n        \"description\": \"\"\n      }\n    },\n    {\n      \"column\": \"text\",\n      \"properties\": {\n        \"dtype\": \"string\",\n        \"num_unique_values\": 9989,\n        \"samples\": [\n          \"author metze date escapenumber escapenumber escapenumber escapenumber escapenumber escapenumber escapenumber mon escapenumber apr escapenumber new revision escapenumber websvn http websvn samba org cgi bin viewcvs cgi view rev root samba rev escapenumber log run net join with the correct socket wrapper and krbescapenumber configuration metze modified branches samba escapenumber escapenumber source selftest sambaescapenumber pm changeset modified branches samba escapenumber escapenumber source selftest sambaescapenumber pm branches samba escapenumber escapenumber source selftest sambaescapenumber pm escapenumber escapenumber escapenumber escapenumber escapenumber escapenumber utc rev escapenumber branches samba escapenumber escapenumber source selftest sambaescapenumber pm escapenumber escapenumber escapenumber escapenumber escapenumber escapenumber utc rev escapenumber escapenumber escapenumber escapenumber escapenumber ret or die unable to provision system self bindir net join ret configuration dcvars domain member u dcvars username \\\\\\\\ dcvars password escapenumber or die join failed my cmd cmd socket wrapper default iface \\\\\\\\ ret socket wrapper default iface \\\\\\\\ cmd krbescapenumber config \\\\\\\\ ret krbescapenumber config \\\\\\\\ cmd self bindir net join ret configuration dcvars domain member cmd u dcvars username \\\\\\\\ dcvars password system cmd escapenumber or die join failed\\\\\\\\n cmd ret smbd test fifo prefix smbd test fifo ret smbd test log prefix smbd test log ret smbd test log pos escapenumber \",\n          \"escapelong yahoo aescapenumber bc af cescapenumber ca aa ab aescapenumber aescapenumber aescapenumber df adq bescapenumber eescapenumber aescapenumberi bescapenumber da aescapenumber aescapenumber aescapenumber\\\\\\\\ bescapenumberq escapenumber ac dd aescapenumber aescapenumber aescapenumber ec bescapenumber cf bd descapenumber cescapenumberi bescapenumber bescapenumber p aescapenumber bescapenumber bescapenumber cc bescapenumberj aa ba aescapenumber aescapenumber aescapenumber h cescapenumber cescapenumber ab af bescapenumber aescapenumbera bescapenumberj afp bescapenumber cescapenumber aescapenumberx aescapenumber aescapenumber aescapenumberi ab eescapenumber cescapenumber bescapenumber cescapenumber cescapenumber ab aescapenumber g aescapenumber cescapenumber ba bf bb bescapenumber aae acy bescapenumber ec aescapenumberi bescapenumberg bb ee cescapenumber cescapenumber aescapenumberj aescapenumber bescapenumber aescapenumber bescapenumber bescapenumberq bescapenumber bescapenumber aescapenumber bescapenumber bb fescapenumber bescapenumber aescapenumber aescapenumberi aescapenumberh aescapenumberi cescapenumberi aescapenumber da bescapenumber descapenumber aescapenumber descapenumber aescapenumber bescapenumber escapelong\"\n        ],\n        \"semantic_type\": \"\",\n        \"description\": \"\"\n      }\n    }\n  ]\n}"
            }
          },
          "metadata": {},
          "execution_count": 90
        }
      ]
    },
    {
      "cell_type": "code",
      "source": [
        "# ham example\n",
        "data.iloc[0, 1]"
      ],
      "metadata": {
        "colab": {
          "base_uri": "https://localhost:8080/",
          "height": 122
        },
        "id": "70BQyM1vApP3",
        "outputId": "37f078e8-6bc4-40dd-d946-36f13a61964a"
      },
      "execution_count": 91,
      "outputs": [
        {
          "output_type": "execute_result",
          "data": {
            "text/plain": [
              "\"into the kingdom of god and those that are entering in he lord pardon escapenumber us in this thing we pray thee have us excused escapenumbernot therefore o escapenumber believers to look into the grave for to you it the holy ghost and escapenumber therefore being a holy habitation unto forth the words of truth and escapenumber soberness escapenumber but in all probability hath made them mad escapenumber and though escapenumber blessed be god all do that of jesus christ they see the necessity of escapenumber closing with a more than almost christians but is heaven so small a escapenumber trifle in men's esteem as not to be total renovation of the whole man escapenumber by the righteousness of complete though we be delivered from the power escapenumber we are not candle of the lord shines out and your redeemer lifts up the escapenumber inward holiness as indeed sometimes they do though in a worms destroy escapenumber them yet even in their flesh shall they see a mind to see jesus but escapenumber then they cannot come to him jeannine walsh\""
            ],
            "application/vnd.google.colaboratory.intrinsic+json": {
              "type": "string"
            }
          },
          "metadata": {},
          "execution_count": 91
        }
      ]
    },
    {
      "cell_type": "code",
      "source": [
        "# spam example\n",
        "data.iloc[1, 1]"
      ],
      "metadata": {
        "colab": {
          "base_uri": "https://localhost:8080/",
          "height": 52
        },
        "id": "jQsFH7L1Awcy",
        "outputId": "4cadd36c-2b98-47fe-f117-2120c4606510"
      },
      "execution_count": 92,
      "outputs": [
        {
          "output_type": "execute_result",
          "data": {
            "text/plain": [
              "\"there was flow at hpl meter 1505 on april first that didn ' t have a deal ticket out there . . . .\\nbut now there is a deal ticket out there to cover it . . . . 740374\\nplease link it or whatever you have to do to make it work\\nthanks\\nlee\""
            ],
            "application/vnd.google.colaboratory.intrinsic+json": {
              "type": "string"
            }
          },
          "metadata": {},
          "execution_count": 92
        }
      ]
    },
    {
      "cell_type": "markdown",
      "source": [
        "# **TEXT PREPROCESSING**\n",
        "from scratch"
      ],
      "metadata": {
        "id": "pk1DquL1CukH"
      }
    },
    {
      "cell_type": "markdown",
      "source": [
        "1. Lower the Text\n",
        "2. Remove punctuation\n",
        "3. Remove stopwords\n",
        "4. Vectorize with BOW"
      ],
      "metadata": {
        "id": "jBlC2qVeCzNq"
      }
    },
    {
      "cell_type": "code",
      "source": [
        "class TextPreprocess:\n",
        "  def __init__(self):\n",
        "    self.result =[]\n",
        "    self.puncts = set([\",\", \":\", \"!\", \"-\", \";\", \"'\", \".\"])\n",
        "    self.text = None\n",
        "\n",
        "    # file here: https://gist.github.com/larsyencken/1440509\n",
        "    with open('stopwords.txt', 'r') as f:\n",
        "      self.stopwords = [line[:-1] for line in f.readlines()]\n",
        "\n",
        "  def transform(self, text):\n",
        "    self.text = text\n",
        "\n",
        "    for word in self.text.split():\n",
        "      if word in self.puncts: continue  # first little step in punct removal\n",
        "      word = word.lower()  # lower\n",
        "      # stopwords\n",
        "      if word in self.stopwords:\n",
        "        text.replace(word, '')\n",
        "\n",
        "      if word[0] in self.puncts:\n",
        "        word = word[1:]\n",
        "\n",
        "      if word[-1] in self.puncts:\n",
        "        word = word[:-1]\n",
        "\n",
        "      self.result.append(word)\n",
        "\n",
        "    return self.result\n"
      ],
      "metadata": {
        "id": "o7i7av-JAzWi"
      },
      "execution_count": 93,
      "outputs": []
    },
    {
      "cell_type": "code",
      "source": [
        "processor = TextPreprocess()\n",
        "# quote from 1984 by George Orwell\n",
        "txt = 'Freedom is the freedom to say that two plus two make four. If that is granted, all else follows.'\n",
        "output = processor.transform(txt)"
      ],
      "metadata": {
        "id": "Oqhm9DP-Esxj"
      },
      "execution_count": 94,
      "outputs": []
    },
    {
      "cell_type": "markdown",
      "source": [
        "Compare The Results!"
      ],
      "metadata": {
        "id": "1Ru6Biq2K6nz"
      }
    },
    {
      "cell_type": "code",
      "source": [
        "print(processor.text)\n",
        "print('⏬⏬⏬⏬⏬')\n",
        "print(output)"
      ],
      "metadata": {
        "colab": {
          "base_uri": "https://localhost:8080/"
        },
        "id": "3gDhuTK6JoQi",
        "outputId": "0f023d3a-c05b-4bd6-ef77-eb512d347f5b"
      },
      "execution_count": 95,
      "outputs": [
        {
          "output_type": "stream",
          "name": "stdout",
          "text": [
            "Freedom is the freedom to say that two plus two make four. If that is granted, all else follows.\n",
            "⏬⏬⏬⏬⏬\n",
            "['freedom', 'is', 'the', 'freedom', 'to', 'say', 'that', 'two', 'plus', 'two', 'make', 'four', 'if', 'that', 'is', 'granted', 'all', 'else', 'follows']\n"
          ]
        }
      ]
    },
    {
      "cell_type": "markdown",
      "source": [
        "### Now Vectorization\n",
        "I'll use **Bag Of Words** as it's simple but efficient"
      ],
      "metadata": {
        "id": "7Zcq7yksMOZw"
      }
    },
    {
      "cell_type": "code",
      "source": [
        "import time"
      ],
      "metadata": {
        "id": "ArjLixAdQAU-"
      },
      "execution_count": 96,
      "outputs": []
    },
    {
      "cell_type": "code",
      "source": [
        "frames = [data[data['label'] == 'spam'][:500],\n",
        "          data[data['label'] == 'ham'][:500]]\n",
        "\n",
        "small_df = pd.concat(frames)\n",
        "small_df = small_df.sample(frac=1)"
      ],
      "metadata": {
        "id": "FOo7HEStQ-AL"
      },
      "execution_count": 97,
      "outputs": []
    },
    {
      "cell_type": "code",
      "source": [
        "small_df.shape"
      ],
      "metadata": {
        "colab": {
          "base_uri": "https://localhost:8080/"
        },
        "id": "CYWIyTpDRkc5",
        "outputId": "736c1940-95df-49a4-9081-071e2ee7081c"
      },
      "execution_count": 98,
      "outputs": [
        {
          "output_type": "execute_result",
          "data": {
            "text/plain": [
              "(1000, 2)"
            ]
          },
          "metadata": {},
          "execution_count": 98
        }
      ]
    },
    {
      "cell_type": "code",
      "source": [
        "small_df.head(10)"
      ],
      "metadata": {
        "colab": {
          "base_uri": "https://localhost:8080/",
          "height": 363
        },
        "id": "Cu1MO4TlR10a",
        "outputId": "4e783fca-b0cb-4009-8065-8fa127c681e4"
      },
      "execution_count": 99,
      "outputs": [
        {
          "output_type": "execute_result",
          "data": {
            "text/plain": [
              "    label                                               text\n",
              "710   ham  summer sale on v i agra and other drugs .\\nyou...\n",
              "848   ham  do you want escapenumberoo to escapenumberooo ...\n",
              "765  spam  message sent from the pjm - customer - info ma...\n",
              "579   ham  special summer offer from canadianpharmacy esc...\n",
              "988   ham  dear sir\\ni am dr fred azu . an accountant wit...\n",
              "206   ham  escapelong escapelong escapelong escapelong es...\n",
              "489  spam  gentlemen - thanks for your support of ena ' s...\n",
              "902  spam  hey vince ,\\nsince i saw you last , the \" real...\n",
              "79    ham  best quality pills for the fraction of the pri...\n",
              "6    spam  alert name bush officers ex cia chief tenet a ..."
            ],
            "text/html": [
              "\n",
              "  <div id=\"df-bc6853c6-4eab-4a8f-b45f-13c570bcd51e\" class=\"colab-df-container\">\n",
              "    <div>\n",
              "<style scoped>\n",
              "    .dataframe tbody tr th:only-of-type {\n",
              "        vertical-align: middle;\n",
              "    }\n",
              "\n",
              "    .dataframe tbody tr th {\n",
              "        vertical-align: top;\n",
              "    }\n",
              "\n",
              "    .dataframe thead th {\n",
              "        text-align: right;\n",
              "    }\n",
              "</style>\n",
              "<table border=\"1\" class=\"dataframe\">\n",
              "  <thead>\n",
              "    <tr style=\"text-align: right;\">\n",
              "      <th></th>\n",
              "      <th>label</th>\n",
              "      <th>text</th>\n",
              "    </tr>\n",
              "  </thead>\n",
              "  <tbody>\n",
              "    <tr>\n",
              "      <th>710</th>\n",
              "      <td>ham</td>\n",
              "      <td>summer sale on v i agra and other drugs .\\nyou...</td>\n",
              "    </tr>\n",
              "    <tr>\n",
              "      <th>848</th>\n",
              "      <td>ham</td>\n",
              "      <td>do you want escapenumberoo to escapenumberooo ...</td>\n",
              "    </tr>\n",
              "    <tr>\n",
              "      <th>765</th>\n",
              "      <td>spam</td>\n",
              "      <td>message sent from the pjm - customer - info ma...</td>\n",
              "    </tr>\n",
              "    <tr>\n",
              "      <th>579</th>\n",
              "      <td>ham</td>\n",
              "      <td>special summer offer from canadianpharmacy esc...</td>\n",
              "    </tr>\n",
              "    <tr>\n",
              "      <th>988</th>\n",
              "      <td>ham</td>\n",
              "      <td>dear sir\\ni am dr fred azu . an accountant wit...</td>\n",
              "    </tr>\n",
              "    <tr>\n",
              "      <th>206</th>\n",
              "      <td>ham</td>\n",
              "      <td>escapelong escapelong escapelong escapelong es...</td>\n",
              "    </tr>\n",
              "    <tr>\n",
              "      <th>489</th>\n",
              "      <td>spam</td>\n",
              "      <td>gentlemen - thanks for your support of ena ' s...</td>\n",
              "    </tr>\n",
              "    <tr>\n",
              "      <th>902</th>\n",
              "      <td>spam</td>\n",
              "      <td>hey vince ,\\nsince i saw you last , the \" real...</td>\n",
              "    </tr>\n",
              "    <tr>\n",
              "      <th>79</th>\n",
              "      <td>ham</td>\n",
              "      <td>best quality pills for the fraction of the pri...</td>\n",
              "    </tr>\n",
              "    <tr>\n",
              "      <th>6</th>\n",
              "      <td>spam</td>\n",
              "      <td>alert name bush officers ex cia chief tenet a ...</td>\n",
              "    </tr>\n",
              "  </tbody>\n",
              "</table>\n",
              "</div>\n",
              "    <div class=\"colab-df-buttons\">\n",
              "\n",
              "  <div class=\"colab-df-container\">\n",
              "    <button class=\"colab-df-convert\" onclick=\"convertToInteractive('df-bc6853c6-4eab-4a8f-b45f-13c570bcd51e')\"\n",
              "            title=\"Convert this dataframe to an interactive table.\"\n",
              "            style=\"display:none;\">\n",
              "\n",
              "  <svg xmlns=\"http://www.w3.org/2000/svg\" height=\"24px\" viewBox=\"0 -960 960 960\">\n",
              "    <path d=\"M120-120v-720h720v720H120Zm60-500h600v-160H180v160Zm220 220h160v-160H400v160Zm0 220h160v-160H400v160ZM180-400h160v-160H180v160Zm440 0h160v-160H620v160ZM180-180h160v-160H180v160Zm440 0h160v-160H620v160Z\"/>\n",
              "  </svg>\n",
              "    </button>\n",
              "\n",
              "  <style>\n",
              "    .colab-df-container {\n",
              "      display:flex;\n",
              "      gap: 12px;\n",
              "    }\n",
              "\n",
              "    .colab-df-convert {\n",
              "      background-color: #E8F0FE;\n",
              "      border: none;\n",
              "      border-radius: 50%;\n",
              "      cursor: pointer;\n",
              "      display: none;\n",
              "      fill: #1967D2;\n",
              "      height: 32px;\n",
              "      padding: 0 0 0 0;\n",
              "      width: 32px;\n",
              "    }\n",
              "\n",
              "    .colab-df-convert:hover {\n",
              "      background-color: #E2EBFA;\n",
              "      box-shadow: 0px 1px 2px rgba(60, 64, 67, 0.3), 0px 1px 3px 1px rgba(60, 64, 67, 0.15);\n",
              "      fill: #174EA6;\n",
              "    }\n",
              "\n",
              "    .colab-df-buttons div {\n",
              "      margin-bottom: 4px;\n",
              "    }\n",
              "\n",
              "    [theme=dark] .colab-df-convert {\n",
              "      background-color: #3B4455;\n",
              "      fill: #D2E3FC;\n",
              "    }\n",
              "\n",
              "    [theme=dark] .colab-df-convert:hover {\n",
              "      background-color: #434B5C;\n",
              "      box-shadow: 0px 1px 3px 1px rgba(0, 0, 0, 0.15);\n",
              "      filter: drop-shadow(0px 1px 2px rgba(0, 0, 0, 0.3));\n",
              "      fill: #FFFFFF;\n",
              "    }\n",
              "  </style>\n",
              "\n",
              "    <script>\n",
              "      const buttonEl =\n",
              "        document.querySelector('#df-bc6853c6-4eab-4a8f-b45f-13c570bcd51e button.colab-df-convert');\n",
              "      buttonEl.style.display =\n",
              "        google.colab.kernel.accessAllowed ? 'block' : 'none';\n",
              "\n",
              "      async function convertToInteractive(key) {\n",
              "        const element = document.querySelector('#df-bc6853c6-4eab-4a8f-b45f-13c570bcd51e');\n",
              "        const dataTable =\n",
              "          await google.colab.kernel.invokeFunction('convertToInteractive',\n",
              "                                                    [key], {});\n",
              "        if (!dataTable) return;\n",
              "\n",
              "        const docLinkHtml = 'Like what you see? Visit the ' +\n",
              "          '<a target=\"_blank\" href=https://colab.research.google.com/notebooks/data_table.ipynb>data table notebook</a>'\n",
              "          + ' to learn more about interactive tables.';\n",
              "        element.innerHTML = '';\n",
              "        dataTable['output_type'] = 'display_data';\n",
              "        await google.colab.output.renderOutput(dataTable, element);\n",
              "        const docLink = document.createElement('div');\n",
              "        docLink.innerHTML = docLinkHtml;\n",
              "        element.appendChild(docLink);\n",
              "      }\n",
              "    </script>\n",
              "  </div>\n",
              "\n",
              "\n",
              "<div id=\"df-2308fd10-9a8d-485f-ac0b-6480ac591cf9\">\n",
              "  <button class=\"colab-df-quickchart\" onclick=\"quickchart('df-2308fd10-9a8d-485f-ac0b-6480ac591cf9')\"\n",
              "            title=\"Suggest charts\"\n",
              "            style=\"display:none;\">\n",
              "\n",
              "<svg xmlns=\"http://www.w3.org/2000/svg\" height=\"24px\"viewBox=\"0 0 24 24\"\n",
              "     width=\"24px\">\n",
              "    <g>\n",
              "        <path d=\"M19 3H5c-1.1 0-2 .9-2 2v14c0 1.1.9 2 2 2h14c1.1 0 2-.9 2-2V5c0-1.1-.9-2-2-2zM9 17H7v-7h2v7zm4 0h-2V7h2v10zm4 0h-2v-4h2v4z\"/>\n",
              "    </g>\n",
              "</svg>\n",
              "  </button>\n",
              "\n",
              "<style>\n",
              "  .colab-df-quickchart {\n",
              "      --bg-color: #E8F0FE;\n",
              "      --fill-color: #1967D2;\n",
              "      --hover-bg-color: #E2EBFA;\n",
              "      --hover-fill-color: #174EA6;\n",
              "      --disabled-fill-color: #AAA;\n",
              "      --disabled-bg-color: #DDD;\n",
              "  }\n",
              "\n",
              "  [theme=dark] .colab-df-quickchart {\n",
              "      --bg-color: #3B4455;\n",
              "      --fill-color: #D2E3FC;\n",
              "      --hover-bg-color: #434B5C;\n",
              "      --hover-fill-color: #FFFFFF;\n",
              "      --disabled-bg-color: #3B4455;\n",
              "      --disabled-fill-color: #666;\n",
              "  }\n",
              "\n",
              "  .colab-df-quickchart {\n",
              "    background-color: var(--bg-color);\n",
              "    border: none;\n",
              "    border-radius: 50%;\n",
              "    cursor: pointer;\n",
              "    display: none;\n",
              "    fill: var(--fill-color);\n",
              "    height: 32px;\n",
              "    padding: 0;\n",
              "    width: 32px;\n",
              "  }\n",
              "\n",
              "  .colab-df-quickchart:hover {\n",
              "    background-color: var(--hover-bg-color);\n",
              "    box-shadow: 0 1px 2px rgba(60, 64, 67, 0.3), 0 1px 3px 1px rgba(60, 64, 67, 0.15);\n",
              "    fill: var(--button-hover-fill-color);\n",
              "  }\n",
              "\n",
              "  .colab-df-quickchart-complete:disabled,\n",
              "  .colab-df-quickchart-complete:disabled:hover {\n",
              "    background-color: var(--disabled-bg-color);\n",
              "    fill: var(--disabled-fill-color);\n",
              "    box-shadow: none;\n",
              "  }\n",
              "\n",
              "  .colab-df-spinner {\n",
              "    border: 2px solid var(--fill-color);\n",
              "    border-color: transparent;\n",
              "    border-bottom-color: var(--fill-color);\n",
              "    animation:\n",
              "      spin 1s steps(1) infinite;\n",
              "  }\n",
              "\n",
              "  @keyframes spin {\n",
              "    0% {\n",
              "      border-color: transparent;\n",
              "      border-bottom-color: var(--fill-color);\n",
              "      border-left-color: var(--fill-color);\n",
              "    }\n",
              "    20% {\n",
              "      border-color: transparent;\n",
              "      border-left-color: var(--fill-color);\n",
              "      border-top-color: var(--fill-color);\n",
              "    }\n",
              "    30% {\n",
              "      border-color: transparent;\n",
              "      border-left-color: var(--fill-color);\n",
              "      border-top-color: var(--fill-color);\n",
              "      border-right-color: var(--fill-color);\n",
              "    }\n",
              "    40% {\n",
              "      border-color: transparent;\n",
              "      border-right-color: var(--fill-color);\n",
              "      border-top-color: var(--fill-color);\n",
              "    }\n",
              "    60% {\n",
              "      border-color: transparent;\n",
              "      border-right-color: var(--fill-color);\n",
              "    }\n",
              "    80% {\n",
              "      border-color: transparent;\n",
              "      border-right-color: var(--fill-color);\n",
              "      border-bottom-color: var(--fill-color);\n",
              "    }\n",
              "    90% {\n",
              "      border-color: transparent;\n",
              "      border-bottom-color: var(--fill-color);\n",
              "    }\n",
              "  }\n",
              "</style>\n",
              "\n",
              "  <script>\n",
              "    async function quickchart(key) {\n",
              "      const quickchartButtonEl =\n",
              "        document.querySelector('#' + key + ' button');\n",
              "      quickchartButtonEl.disabled = true;  // To prevent multiple clicks.\n",
              "      quickchartButtonEl.classList.add('colab-df-spinner');\n",
              "      try {\n",
              "        const charts = await google.colab.kernel.invokeFunction(\n",
              "            'suggestCharts', [key], {});\n",
              "      } catch (error) {\n",
              "        console.error('Error during call to suggestCharts:', error);\n",
              "      }\n",
              "      quickchartButtonEl.classList.remove('colab-df-spinner');\n",
              "      quickchartButtonEl.classList.add('colab-df-quickchart-complete');\n",
              "    }\n",
              "    (() => {\n",
              "      let quickchartButtonEl =\n",
              "        document.querySelector('#df-2308fd10-9a8d-485f-ac0b-6480ac591cf9 button');\n",
              "      quickchartButtonEl.style.display =\n",
              "        google.colab.kernel.accessAllowed ? 'block' : 'none';\n",
              "    })();\n",
              "  </script>\n",
              "</div>\n",
              "    </div>\n",
              "  </div>\n"
            ],
            "application/vnd.google.colaboratory.intrinsic+json": {
              "type": "dataframe",
              "variable_name": "small_df",
              "summary": "{\n  \"name\": \"small_df\",\n  \"rows\": 1000,\n  \"fields\": [\n    {\n      \"column\": \"label\",\n      \"properties\": {\n        \"dtype\": \"category\",\n        \"num_unique_values\": 2,\n        \"samples\": [\n          \"spam\",\n          \"ham\"\n        ],\n        \"semantic_type\": \"\",\n        \"description\": \"\"\n      }\n    },\n    {\n      \"column\": \"text\",\n      \"properties\": {\n        \"dtype\": \"string\",\n        \"num_unique_values\": 1000,\n        \"samples\": [\n          \"see attach http www opalemat net it was too painful to talk abo wait bridgid demanded when gi im never wearing the buchanan be reasonable everyone will k\",\n          \"sally ,\\nthought this might be something you could offer to help the gas desk with . they currently handle all the logistics for gas and power .\\ncall me if you would like to discuss .\\nwanda\\n- - - - - - - - - - - - - - - - - - - - - - forwarded by wanda curry / hou / ees on 04 / 12 / 2001 06 : 40 pm - - - - - - - - - - - - - - - - - - - - - - - - - - -\\nmeredith m eggleston\\n04 / 12 / 2001 01 : 38 pm\\nto : wanda curry / hou / ees @ ees , mary lynne ruffer / hou / ees @ ees , scott mills / hou / ees @ ees , david draper / hou / ees @ ees , neil hong / hou / ees @ ees\\ncc :\\nsubject : shutting down all new sales to western states : personnel shortage\\nfyi\\n- - - - - - - - - - - - - - - - - - - - - - forwarded by meredith m eggleston / hou / ees on 04 / 12 / 2001 01 : 38 pm - - - - - - - - - - - - - - - - - - - - - - - - - - -\\nenron energy services from : jess hewitt 04 / 12 / 2001 01 : 09 pm phone : n / a\\nto : greg sharp / hou / ees @ ees , gina gould / hou / ees @ ees , tom armstrong / hou / ees @ ees , denise wilder / sfo / ees @ ees , ronald g mentan / sfo / ees @ ees , roger o ponce / hou / ees @ ees , derek kelly / hou / ees @ ees , shawn grant / western region / the bentley company @ exchange , gary a young / hou / ees @ ees , eric letke / hou / ees @ ees , david coolidge / hou / ees @ ees , roger reynolds / hou / ees @ ees , kristann shireman / hou / ees @ ees\\ncc : robert @ bmarkenergy . com , cater _ and _ associates @ email . men . com , mark courtney / hou / ees @ ees ( bcc : meredith m eggleston / hou / ees )\\nsubject : shutting down all new sales to western states : personnel shortage\\ndue to the severe shortage of pipeline and ldc scheduling personnel and the current hiring freeze , we are incurring\\nunknown imbalance penalties and we are not able to make deliveries of gas . in an effort to give remaining personnel\\na chance to catch up with deliveries and imbalances i am shutting down all pricing curves for the west gas desk\\nincluding city gates in the following states : ca , co , nm , nv , az , ne , tx , wa , ut , and or until further notice .\\nplease do not transact any new deals until we have fully staffed our scheduling desk for the west .\\nthank you for your cooperation in this matter . please pass this on to anyone you believe would need to know this\\ninformation .\"\n        ],\n        \"semantic_type\": \"\",\n        \"description\": \"\"\n      }\n    }\n  ]\n}"
            }
          },
          "metadata": {},
          "execution_count": 99
        }
      ]
    },
    {
      "cell_type": "code",
      "source": [
        "total = []\n",
        "for text in small_df['text']:\n",
        "  transformed = processor.transform(text)\n",
        "  total += transformed\n",
        "\n",
        "print(set(total))"
      ],
      "metadata": {
        "id": "aRG17UhZR8dJ"
      },
      "execution_count": null,
      "outputs": []
    },
    {
      "cell_type": "code",
      "source": [
        "vocab = set(total)"
      ],
      "metadata": {
        "id": "rpCmVITmSByZ"
      },
      "execution_count": 102,
      "outputs": []
    },
    {
      "cell_type": "code",
      "source": [
        "vocab = list(vocab)\n",
        "vocab[:10]"
      ],
      "metadata": {
        "colab": {
          "base_uri": "https://localhost:8080/"
        },
        "id": "GaJ3xt24T_ca",
        "outputId": "5ba2268b-0865-4043-f193-9b02a18e4b3b"
      },
      "execution_count": 104,
      "outputs": [
        {
          "output_type": "execute_result",
          "data": {
            "text/plain": [
              "['',\n",
              " 'dsize',\n",
              " 'cattle',\n",
              " 'locanda',\n",
              " 'similarly',\n",
              " 'smyrno',\n",
              " 'îòðèòªô¤¶©',\n",
              " 'folk',\n",
              " 'contextualizer',\n",
              " 'ööàà°üà¨£¨']"
            ]
          },
          "metadata": {},
          "execution_count": 104
        }
      ]
    },
    {
      "cell_type": "code",
      "source": [
        "len(vocab)"
      ],
      "metadata": {
        "colab": {
          "base_uri": "https://localhost:8080/"
        },
        "id": "nfbObKivUq64",
        "outputId": "1b3261a4-8ca6-4539-fc5e-797c5224487e"
      },
      "execution_count": 105,
      "outputs": [
        {
          "output_type": "execute_result",
          "data": {
            "text/plain": [
              "23427"
            ]
          },
          "metadata": {},
          "execution_count": 105
        }
      ]
    },
    {
      "cell_type": "markdown",
      "source": [
        "<img src='https://media1.tenor.com/m/S_to1tY3ixUAAAAd/breaking-bad-walter-white.gif' width=30%>"
      ],
      "metadata": {
        "id": "eNEYHgDhVAz3"
      }
    },
    {
      "cell_type": "code",
      "source": [],
      "metadata": {
        "id": "kjTH0cQmVe8h"
      },
      "execution_count": null,
      "outputs": []
    }
  ]
}